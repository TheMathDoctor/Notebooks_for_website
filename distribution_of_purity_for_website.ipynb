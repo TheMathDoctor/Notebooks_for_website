{
  "nbformat": 4,
  "nbformat_minor": 0,
  "metadata": {
    "colab": {
      "name": "distribution_of_purity.ipynb",
      "provenance": [],
      "collapsed_sections": []
    },
    "kernelspec": {
      "name": "python3",
      "display_name": "Python 3"
    },
    "language_info": {
      "name": "python"
    }
  },
  "cells": [
    {
      "cell_type": "code",
      "metadata": {
        "id": "1B7onu6nuQxX"
      },
      "source": [
        "import numpy as np\n",
        "import matplotlib.pyplot as plt"
      ],
      "execution_count": null,
      "outputs": []
    },
    {
      "cell_type": "markdown",
      "metadata": {
        "id": "UxFfEG858hej"
      },
      "source": [
        "Here we compute $\\int Tr(\\rho^2)d\\rho$ where the integral is taken over all density matrices equipped with the uniform distribution. Every density matrix $\\rho$ in finite dimensions can be written as $\\rho = U\\Lambda U^*$, where $\\Lambda$ is a diagonal matrix, with positive entries summing to 1, and U is a unitary matrix. This implies that the uniform distribution $d\\rho$ on $D(\\mathbb{C}^d)$ can be defined by $d\\rho = d\\Lambda_n dU$ where $d\\Lambda_n$ is the dirichlet distribution in $n$ variables, and $dU$ is the Haar measure on unitary group $\\mathbb{U}(d)$."
      ]
    },
    {
      "cell_type": "markdown",
      "metadata": {
        "id": "aWc9KykH-Pb_"
      },
      "source": [
        "Since the $U$s are unitary and the trace is cyclic, this integral reduces to $\\int Tr(\\Lambda^2)d\\Lambda_n$. Thus to look at the distribution of the average purity, we need only generate samples from the dirichlet distribution. "
      ]
    },
    {
      "cell_type": "code",
      "metadata": {
        "id": "4wa4MTYJucV8"
      },
      "source": [
        "d=16\n",
        "size=10000\n",
        "alpha = np.ones(d)"
      ],
      "execution_count": null,
      "outputs": []
    },
    {
      "cell_type": "code",
      "metadata": {
        "id": "ddNA7g-Cug6g"
      },
      "source": [
        "dirichlet_samples = np.random.dirichlet(alpha,size=size)"
      ],
      "execution_count": null,
      "outputs": []
    },
    {
      "cell_type": "code",
      "metadata": {
        "id": "hjtkPQmLutmh"
      },
      "source": [
        "purity_samples = [np.dot(sample,sample) for sample in dirichlet_samples]"
      ],
      "execution_count": null,
      "outputs": []
    },
    {
      "cell_type": "code",
      "metadata": {
        "colab": {
          "base_uri": "https://localhost:8080/",
          "height": 322
        },
        "id": "kxB89TeMvRn1",
        "outputId": "e58876af-3365-48b3-e97c-30f1d2c3daca"
      },
      "source": [
        "plt.hist(purity_samples,bins=100,density=True,color='c')\n",
        "plt.axvline(2/(d+1), color='k', linestyle='dashed', linewidth=1)\n",
        "plt.text(.5, 10, r'$\\mathbb{E}[Tr(\\rho^2)]=\\frac{2}{2^n+1}$')\n",
        "plt.title(r'Distribution of Tr$(\\rho^2)$ for n='+str(int(np.log2(d))))\n",
        "plt.xlabel(r'Tr$(\\rho^2)$')\n",
        "plt.ylabel('Frequency')\n",
        "plt.xlim(0,1)\n"
      ],
      "execution_count": null,
      "outputs": [
        {
          "output_type": "execute_result",
          "data": {
            "text/plain": [
              "(0.0, 1.0)"
            ]
          },
          "metadata": {
            "tags": []
          },
          "execution_count": 5
        },
        {
          "output_type": "display_data",
          "data": {
            "image/png": "[encoded data removed]",
            "text/plain": [
              "<Figure size 432x288 with 1 Axes>"
            ]
          },
          "metadata": {
            "tags": [],
            "needs_background": "light"
          }
        }
      ]
    }
  ]
}